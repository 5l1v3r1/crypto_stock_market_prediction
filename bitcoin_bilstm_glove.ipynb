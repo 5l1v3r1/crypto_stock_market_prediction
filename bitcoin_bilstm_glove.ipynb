{
 "cells": [
  {
   "cell_type": "code",
   "execution_count": 1,
   "metadata": {},
   "outputs": [
    {
     "name": "stderr",
     "output_type": "stream",
     "text": [
      "/anaconda3/lib/python3.6/site-packages/h5py/__init__.py:36: FutureWarning: Conversion of the second argument of issubdtype from `float` to `np.floating` is deprecated. In future, it will be treated as `np.float64 == np.dtype(float).type`.\n",
      "  from ._conv import register_converters as _register_converters\n",
      "Using TensorFlow backend.\n"
     ]
    }
   ],
   "source": [
    "import numpy as np\n",
    "import pandas as pd\n",
    "from keras.preprocessing.text import Tokenizer\n",
    "from keras.preprocessing.sequence import pad_sequences\n",
    "from keras.utils import to_categorical\n",
    "from keras.models import Sequential\n",
    "from keras.layers import Dense, LSTM, Embedding, Bidirectional, Input, Dropout\n",
    "from keras.optimizers import Adam, RMSprop\n",
    "from sklearn.metrics import f1_score\n",
    "from keras.regularizers import l2\n",
    "np.random.seed(7)"
   ]
  },
  {
   "cell_type": "code",
   "execution_count": 2,
   "metadata": {},
   "outputs": [],
   "source": [
    "MAX_SEQUENCE_LENGTH = 15\n",
    "MAX_NB_WORDS = 10000\n",
    "EMBEDDING_DIM = 300"
   ]
  },
  {
   "cell_type": "code",
   "execution_count": 3,
   "metadata": {},
   "outputs": [],
   "source": [
    "data = pd.read_csv(\"bitcoin_data.csv\")"
   ]
  },
  {
   "cell_type": "code",
   "execution_count": 4,
   "metadata": {},
   "outputs": [
    {
     "data": {
      "text/html": [
       "<div>\n",
       "<style scoped>\n",
       "    .dataframe tbody tr th:only-of-type {\n",
       "        vertical-align: middle;\n",
       "    }\n",
       "\n",
       "    .dataframe tbody tr th {\n",
       "        vertical-align: top;\n",
       "    }\n",
       "\n",
       "    .dataframe thead th {\n",
       "        text-align: right;\n",
       "    }\n",
       "</style>\n",
       "<table border=\"1\" class=\"dataframe\">\n",
       "  <thead>\n",
       "    <tr style=\"text-align: right;\">\n",
       "      <th></th>\n",
       "      <th>Timestamp</th>\n",
       "      <th>Username</th>\n",
       "      <th>Label</th>\n",
       "      <th>Tweet</th>\n",
       "      <th>URL</th>\n",
       "    </tr>\n",
       "  </thead>\n",
       "  <tbody>\n",
       "    <tr>\n",
       "      <th>0</th>\n",
       "      <td>March 14, 2018 at 09:47PM</td>\n",
       "      <td>@RizkyF_404</td>\n",
       "      <td>spam</td>\n",
       "      <td>RT @kickcity_io: Token Kart added KickCity to ...</td>\n",
       "      <td>http://twitter.com/RizkyF_404/status/973903509...</td>\n",
       "    </tr>\n",
       "    <tr>\n",
       "      <th>1</th>\n",
       "      <td>March 14, 2018 at 09:47PM</td>\n",
       "      <td>@exchangebutler</td>\n",
       "      <td>spam</td>\n",
       "      <td>RT @Denaro_io: Our support team is here to hel...</td>\n",
       "      <td>http://twitter.com/exchangebutler/status/97390...</td>\n",
       "    </tr>\n",
       "    <tr>\n",
       "      <th>2</th>\n",
       "      <td>March 14, 2018 at 09:47PM</td>\n",
       "      <td>@Bilalbinsaqib</td>\n",
       "      <td>pos</td>\n",
       "      <td>$eth trendline broke\\nnext support @600 and th...</td>\n",
       "      <td>http://twitter.com/Bilalbinsaqib/status/973903...</td>\n",
       "    </tr>\n",
       "    <tr>\n",
       "      <th>3</th>\n",
       "      <td>March 14, 2018 at 09:47PM</td>\n",
       "      <td>@ahsen_soydan</td>\n",
       "      <td>spam</td>\n",
       "      <td>RT @ahsen_soydanvip: 💎 High Quality Partner ✔️...</td>\n",
       "      <td>http://twitter.com/ahsen_soydan/status/9739035...</td>\n",
       "    </tr>\n",
       "    <tr>\n",
       "      <th>4</th>\n",
       "      <td>March 14, 2018 at 09:47PM</td>\n",
       "      <td>@mourneopened</td>\n",
       "      <td>hype</td>\n",
       "      <td>RT @izx_io: IZETEX is on the Battle of the Cry...</td>\n",
       "      <td>http://twitter.com/mourneopened/status/9739035...</td>\n",
       "    </tr>\n",
       "  </tbody>\n",
       "</table>\n",
       "</div>"
      ],
      "text/plain": [
       "                   Timestamp         Username Label  \\\n",
       "0  March 14, 2018 at 09:47PM      @RizkyF_404  spam   \n",
       "1  March 14, 2018 at 09:47PM  @exchangebutler  spam   \n",
       "2  March 14, 2018 at 09:47PM   @Bilalbinsaqib   pos   \n",
       "3  March 14, 2018 at 09:47PM    @ahsen_soydan  spam   \n",
       "4  March 14, 2018 at 09:47PM    @mourneopened  hype   \n",
       "\n",
       "                                               Tweet  \\\n",
       "0  RT @kickcity_io: Token Kart added KickCity to ...   \n",
       "1  RT @Denaro_io: Our support team is here to hel...   \n",
       "2  $eth trendline broke\\nnext support @600 and th...   \n",
       "3  RT @ahsen_soydanvip: 💎 High Quality Partner ✔️...   \n",
       "4  RT @izx_io: IZETEX is on the Battle of the Cry...   \n",
       "\n",
       "                                                 URL  \n",
       "0  http://twitter.com/RizkyF_404/status/973903509...  \n",
       "1  http://twitter.com/exchangebutler/status/97390...  \n",
       "2  http://twitter.com/Bilalbinsaqib/status/973903...  \n",
       "3  http://twitter.com/ahsen_soydan/status/9739035...  \n",
       "4  http://twitter.com/mourneopened/status/9739035...  "
      ]
     },
     "execution_count": 4,
     "metadata": {},
     "output_type": "execute_result"
    }
   ],
   "source": [
    "data.head()"
   ]
  },
  {
   "cell_type": "code",
   "execution_count": 5,
   "metadata": {},
   "outputs": [],
   "source": [
    "data = pd.DataFrame.dropna(data)\n",
    "data = pd.DataFrame.drop_duplicates(data)"
   ]
  },
  {
   "cell_type": "code",
   "execution_count": 6,
   "metadata": {},
   "outputs": [],
   "source": [
    "data = data[data.Label != 'neutral']"
   ]
  },
  {
   "cell_type": "markdown",
   "metadata": {},
   "source": [
    "## Multi-class classification system with 5 classes"
   ]
  },
  {
   "cell_type": "code",
   "execution_count": 7,
   "metadata": {},
   "outputs": [
    {
     "name": "stdout",
     "output_type": "stream",
     "text": [
      "5\n",
      "1338\n"
     ]
    }
   ],
   "source": [
    "print(len(data.Label.unique()))\n",
    "print(len(data))"
   ]
  },
  {
   "cell_type": "code",
   "execution_count": 8,
   "metadata": {},
   "outputs": [
    {
     "name": "stdout",
     "output_type": "stream",
     "text": [
      "Label\n",
      "doom     62\n",
      "hype    177\n",
      "neg      91\n",
      "pos     211\n",
      "spam    797\n",
      "dtype: int64\n"
     ]
    },
    {
     "data": {
      "text/plain": [
       "<matplotlib.axes._subplots.AxesSubplot at 0x1a16b9eb38>"
      ]
     },
     "execution_count": 8,
     "metadata": {},
     "output_type": "execute_result"
    },
    {
     "data": {
      "image/png": "[encoded data removed]",
      "text/plain": [
       "<matplotlib.figure.Figure at 0x102812320>"
      ]
     },
     "metadata": {},
     "output_type": "display_data"
    }
   ],
   "source": [
    "print(data.groupby('Label').size())\n",
    "%matplotlib inline\n",
    "import matplotlib as plt\n",
    "data['Label'].value_counts().plot(kind=\"bar\")"
   ]
  },
  {
   "cell_type": "code",
   "execution_count": 9,
   "metadata": {},
   "outputs": [],
   "source": [
    "texts = data[\"Tweet\"].values\n",
    "labels = data[\"Label\"].values"
   ]
  },
  {
   "cell_type": "markdown",
   "metadata": {},
   "source": [
    "## Cleaning tweets"
   ]
  },
  {
   "cell_type": "code",
   "execution_count": 10,
   "metadata": {},
   "outputs": [],
   "source": [
    "# stemming + stopword_removal\n",
    "\n",
    "import re\n",
    "from nltk.corpus import stopwords\n",
    "\n",
    "text = []\n",
    "for i in range(0, len(texts)):\n",
    "    tweet = re.sub('[^a-zA-Z\\s+]','', texts[i])\n",
    "    tweet = re.sub(r'http\\S+', '', texts[i]).lower().split()\n",
    "    tweet = [word for word in tweet if not word in set(stopwords.words('english'))]\n",
    "    tweet = ' '.join(tweet)\n",
    "    text.append(tweet)\n",
    "    \n",
    "text = np.asarray(text)\n"
   ]
  },
  {
   "cell_type": "code",
   "execution_count": 11,
   "metadata": {},
   "outputs": [
    {
     "name": "stdout",
     "output_type": "stream",
     "text": [
      "Found 6241 unique tokens.\n"
     ]
    }
   ],
   "source": [
    "# tokenizing and sequencing\n",
    "\n",
    "tokenizer = Tokenizer(num_words=MAX_NB_WORDS)\n",
    "tokenizer.fit_on_texts(text)\n",
    "sequences = tokenizer.texts_to_sequences(text)\n",
    "\n",
    "word_index = tokenizer.word_index\n",
    "print('Found %s unique tokens.' % len(word_index))"
   ]
  },
  {
   "cell_type": "code",
   "execution_count": 12,
   "metadata": {},
   "outputs": [],
   "source": [
    "df = pad_sequences(sequences, maxlen=MAX_SEQUENCE_LENGTH)"
   ]
  },
  {
   "cell_type": "code",
   "execution_count": 13,
   "metadata": {},
   "outputs": [],
   "source": [
    "target_names = data.Label.unique() # list of label ids\n",
    "target_dict = {n:i for i, n in enumerate(target_names)} # list of label names\n",
    "labels = data.Label.map(target_dict)\n",
    "labels = to_categorical(np.asarray(labels))"
   ]
  },
  {
   "cell_type": "code",
   "execution_count": 14,
   "metadata": {},
   "outputs": [
    {
     "data": {
      "text/plain": [
       "{'doom': 4, 'hype': 2, 'neg': 3, 'pos': 1, 'spam': 0}"
      ]
     },
     "execution_count": 14,
     "metadata": {},
     "output_type": "execute_result"
    }
   ],
   "source": [
    "target_dict"
   ]
  },
  {
   "cell_type": "code",
   "execution_count": 15,
   "metadata": {},
   "outputs": [
    {
     "name": "stdout",
     "output_type": "stream",
     "text": [
      "Shape of data tensor: (1338, 5)\n",
      "Shape of label tensor: (1338, 5)\n"
     ]
    }
   ],
   "source": [
    "print('Shape of data tensor:', data.shape)\n",
    "print('Shape of label tensor:', labels.shape)"
   ]
  },
  {
   "cell_type": "code",
   "execution_count": 16,
   "metadata": {},
   "outputs": [],
   "source": [
    "indices = np.arange(df.shape[0])\n",
    "np.random.shuffle(indices)\n",
    "data = df[indices]\n",
    "labels = labels[indices]"
   ]
  },
  {
   "cell_type": "code",
   "execution_count": 17,
   "metadata": {},
   "outputs": [],
   "source": [
    "X = data\n",
    "y = labels"
   ]
  },
  {
   "cell_type": "code",
   "execution_count": 18,
   "metadata": {},
   "outputs": [],
   "source": [
    "# split\n",
    "from sklearn.model_selection import train_test_split\n",
    "X_train, X_test, y_train, y_test = train_test_split(data, labels, test_size=0.2, random_state=0)"
   ]
  },
  {
   "cell_type": "markdown",
   "metadata": {},
   "source": [
    "## Pre-training on Glove embeddings"
   ]
  },
  {
   "cell_type": "code",
   "execution_count": 19,
   "metadata": {},
   "outputs": [
    {
     "name": "stdout",
     "output_type": "stream",
     "text": [
      "Found 400000 word vectors.\n",
      "2238\n"
     ]
    }
   ],
   "source": [
    "# embedding matrx\n",
    "embeddings_index = {}\n",
    "f = open('glove.6B.300d.txt')\n",
    "for line in f:\n",
    "    values = line.split()\n",
    "    word = values[0]\n",
    "    coefs = np.asarray(values[1:], dtype='float32')\n",
    "    embeddings_index[word] = coefs\n",
    "f.close()\n",
    "\n",
    "print('Found %s word vectors.' % len(embeddings_index))\n",
    "\n",
    "# embedding matrix\n",
    "count = 0\n",
    "embedding_matrix = np.zeros((len(word_index) + 1, EMBEDDING_DIM))\n",
    "for word, index in word_index.items():\n",
    "    embedding_vector = embeddings_index.get(word)\n",
    "    if embedding_vector is not None:\n",
    "        # words not found in embedding index will be all-zeros.\n",
    "        embedding_matrix[index] = embedding_vector\n",
    "    else:\n",
    "        count += 1\n",
    "print(count) \n",
    "\n",
    "\n",
    "# embedding layer\n",
    "embedding_layer = Embedding(len(word_index) + 1,\n",
    "                            EMBEDDING_DIM,\n",
    "                            weights=[embedding_matrix],\n",
    "                            input_length=MAX_SEQUENCE_LENGTH,\n",
    "                            trainable=True) "
   ]
  },
  {
   "cell_type": "code",
   "execution_count": 20,
   "metadata": {},
   "outputs": [],
   "source": [
    "# build model\n",
    "model = Sequential()\n",
    "model.add(embedding_layer)\n",
    "model.add(Dropout(0.3))\n",
    "model.add(Bidirectional(LSTM(128, recurrent_dropout=0.3)))\n",
    "model.add(Dropout(0.3))\n",
    "model.add(Dense(len(target_names), activation='softmax'))\n",
    "model.compile(loss='categorical_crossentropy', optimizer=Adam(lr=0.003), metrics=['acc'])"
   ]
  },
  {
   "cell_type": "code",
   "execution_count": 21,
   "metadata": {},
   "outputs": [
    {
     "name": "stdout",
     "output_type": "stream",
     "text": [
      "Train on 1070 samples, validate on 268 samples\n",
      "Epoch 1/4\n",
      "1070/1070 [==============================] - 6s 5ms/step - loss: 1.1216 - acc: 0.5794 - val_loss: 1.0264 - val_acc: 0.6194\n",
      "Epoch 2/4\n",
      "1070/1070 [==============================] - 4s 3ms/step - loss: 0.7677 - acc: 0.7187 - val_loss: 1.0710 - val_acc: 0.6269\n",
      "Epoch 3/4\n",
      "1070/1070 [==============================] - 4s 4ms/step - loss: 0.4798 - acc: 0.8346 - val_loss: 1.1657 - val_acc: 0.6194\n",
      "Epoch 4/4\n",
      "1070/1070 [==============================] - 4s 3ms/step - loss: 0.2600 - acc: 0.9178 - val_loss: 1.2893 - val_acc: 0.6567\n"
     ]
    },
    {
     "data": {
      "text/plain": [
       "<keras.callbacks.History at 0x1a156b9fd0>"
      ]
     },
     "execution_count": 21,
     "metadata": {},
     "output_type": "execute_result"
    }
   ],
   "source": [
    "model.fit(X_train, y_train,\n",
    "          batch_size=32,\n",
    "          epochs=4, validation_data=(X_test, y_test))"
   ]
  },
  {
   "cell_type": "code",
   "execution_count": 22,
   "metadata": {},
   "outputs": [
    {
     "name": "stdout",
     "output_type": "stream",
     "text": [
      "             precision    recall  f1-score   support\n",
      "\n",
      "          0      0.787     0.906     0.842       159\n",
      "          1      0.419     0.289     0.342        45\n",
      "          2      0.400     0.400     0.400        30\n",
      "          3      0.238     0.312     0.270        16\n",
      "          4      0.667     0.111     0.190        18\n",
      "\n",
      "avg / total      0.641     0.657     0.631       268\n",
      "\n"
     ]
    }
   ],
   "source": [
    "y_pred = model.predict(X_test)\n",
    "y_test_class = np.argmax(y_test, axis=1)\n",
    "y_pred_class = np.argmax(y_pred, axis=1)\n",
    "\n",
    "from sklearn.metrics import classification_report\n",
    "print(classification_report(y_test_class, y_pred_class, digits=3))"
   ]
  },
  {
   "cell_type": "code",
   "execution_count": 23,
   "metadata": {},
   "outputs": [
    {
     "name": "stdout",
     "output_type": "stream",
     "text": [
      "{'doom': 4, 'hype': 2, 'neg': 3, 'pos': 1, 'spam': 0}\n"
     ]
    }
   ],
   "source": [
    "print({'doom': 4, 'hype': 2, 'neg': 3, 'pos': 1, 'spam': 0})"
   ]
  },
  {
   "cell_type": "code",
   "execution_count": null,
   "metadata": {},
   "outputs": [],
   "source": []
  }
 ],
 "metadata": {
  "kernelspec": {
   "display_name": "Python 3",
   "language": "python",
   "name": "python3"
  },
  "language_info": {
   "codemirror_mode": {
    "name": "ipython",
    "version": 3
   },
   "file_extension": ".py",
   "mimetype": "text/x-python",
   "name": "python",
   "nbconvert_exporter": "python",
   "pygments_lexer": "ipython3",
   "version": "3.6.4"
  }
 },
 "nbformat": 4,
 "nbformat_minor": 2
}
