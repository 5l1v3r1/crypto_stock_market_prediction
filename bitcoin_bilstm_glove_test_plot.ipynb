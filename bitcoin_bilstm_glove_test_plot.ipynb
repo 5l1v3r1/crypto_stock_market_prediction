{
 "cells": [
  {
   "cell_type": "code",
   "execution_count": 1,
   "metadata": {},
   "outputs": [
    {
     "name": "stderr",
     "output_type": "stream",
     "text": [
      "Using TensorFlow backend.\n",
      "/Library/Frameworks/Python.framework/Versions/3.6/lib/python3.6/importlib/_bootstrap.py:219: RuntimeWarning: compiletime version 3.5 of module 'tensorflow.python.framework.fast_tensor_util' does not match runtime version 3.6\n",
      "  return f(*args, **kwds)\n"
     ]
    }
   ],
   "source": [
    "import numpy as np\n",
    "import pandas as pd\n",
    "from keras.preprocessing.text import Tokenizer\n",
    "from keras.preprocessing.sequence import pad_sequences\n",
    "from keras.utils import to_categorical\n",
    "from keras.models import Sequential\n",
    "from keras.layers import Dense, LSTM, Embedding, Bidirectional, Input, Dropout\n",
    "from keras.optimizers import Adam, RMSprop\n",
    "from sklearn.metrics import f1_score\n",
    "from keras.regularizers import l2\n",
    "np.random.seed(7)"
   ]
  },
  {
   "cell_type": "code",
   "execution_count": 2,
   "metadata": {},
   "outputs": [],
   "source": [
    "MAX_SEQUENCE_LENGTH = 15\n",
    "MAX_NB_WORDS = 10000\n",
    "EMBEDDING_DIM = 300"
   ]
  },
  {
   "cell_type": "code",
   "execution_count": 161,
   "metadata": {},
   "outputs": [],
   "source": [
    "data = pd.read_csv(\"bitcoin_data.csv\")\n",
    "test_data = pd.read_csv(\"data.csv\", low_memory=False)"
   ]
  },
  {
   "cell_type": "code",
   "execution_count": 162,
   "metadata": {},
   "outputs": [
    {
     "data": {
      "text/html": [
       "<div>\n",
       "<style scoped>\n",
       "    .dataframe tbody tr th:only-of-type {\n",
       "        vertical-align: middle;\n",
       "    }\n",
       "\n",
       "    .dataframe tbody tr th {\n",
       "        vertical-align: top;\n",
       "    }\n",
       "\n",
       "    .dataframe thead th {\n",
       "        text-align: right;\n",
       "    }\n",
       "</style>\n",
       "<table border=\"1\" class=\"dataframe\">\n",
       "  <thead>\n",
       "    <tr style=\"text-align: right;\">\n",
       "      <th></th>\n",
       "      <th>Timestamp</th>\n",
       "      <th>Username</th>\n",
       "      <th>Label</th>\n",
       "      <th>Tweet</th>\n",
       "      <th>URL</th>\n",
       "    </tr>\n",
       "  </thead>\n",
       "  <tbody>\n",
       "    <tr>\n",
       "      <th>0</th>\n",
       "      <td>March 14, 2018 at 09:47PM</td>\n",
       "      <td>@RizkyF_404</td>\n",
       "      <td>spam</td>\n",
       "      <td>RT @kickcity_io: Token Kart added KickCity to ...</td>\n",
       "      <td>http://twitter.com/RizkyF_404/status/973903509...</td>\n",
       "    </tr>\n",
       "    <tr>\n",
       "      <th>1</th>\n",
       "      <td>March 14, 2018 at 09:47PM</td>\n",
       "      <td>@exchangebutler</td>\n",
       "      <td>spam</td>\n",
       "      <td>RT @Denaro_io: Our support team is here to hel...</td>\n",
       "      <td>http://twitter.com/exchangebutler/status/97390...</td>\n",
       "    </tr>\n",
       "    <tr>\n",
       "      <th>2</th>\n",
       "      <td>March 14, 2018 at 09:47PM</td>\n",
       "      <td>@Bilalbinsaqib</td>\n",
       "      <td>pos</td>\n",
       "      <td>$eth trendline broke\\nnext support @600 and th...</td>\n",
       "      <td>http://twitter.com/Bilalbinsaqib/status/973903...</td>\n",
       "    </tr>\n",
       "    <tr>\n",
       "      <th>3</th>\n",
       "      <td>March 14, 2018 at 09:47PM</td>\n",
       "      <td>@ahsen_soydan</td>\n",
       "      <td>spam</td>\n",
       "      <td>RT @ahsen_soydanvip: 💎 High Quality Partner ✔️...</td>\n",
       "      <td>http://twitter.com/ahsen_soydan/status/9739035...</td>\n",
       "    </tr>\n",
       "    <tr>\n",
       "      <th>4</th>\n",
       "      <td>March 14, 2018 at 09:47PM</td>\n",
       "      <td>@mourneopened</td>\n",
       "      <td>hype</td>\n",
       "      <td>RT @izx_io: IZETEX is on the Battle of the Cry...</td>\n",
       "      <td>http://twitter.com/mourneopened/status/9739035...</td>\n",
       "    </tr>\n",
       "  </tbody>\n",
       "</table>\n",
       "</div>"
      ],
      "text/plain": [
       "                   Timestamp         Username Label  \\\n",
       "0  March 14, 2018 at 09:47PM      @RizkyF_404  spam   \n",
       "1  March 14, 2018 at 09:47PM  @exchangebutler  spam   \n",
       "2  March 14, 2018 at 09:47PM   @Bilalbinsaqib   pos   \n",
       "3  March 14, 2018 at 09:47PM    @ahsen_soydan  spam   \n",
       "4  March 14, 2018 at 09:47PM    @mourneopened  hype   \n",
       "\n",
       "                                               Tweet  \\\n",
       "0  RT @kickcity_io: Token Kart added KickCity to ...   \n",
       "1  RT @Denaro_io: Our support team is here to hel...   \n",
       "2  $eth trendline broke\\nnext support @600 and th...   \n",
       "3  RT @ahsen_soydanvip: 💎 High Quality Partner ✔️...   \n",
       "4  RT @izx_io: IZETEX is on the Battle of the Cry...   \n",
       "\n",
       "                                                 URL  \n",
       "0  http://twitter.com/RizkyF_404/status/973903509...  \n",
       "1  http://twitter.com/exchangebutler/status/97390...  \n",
       "2  http://twitter.com/Bilalbinsaqib/status/973903...  \n",
       "3  http://twitter.com/ahsen_soydan/status/9739035...  \n",
       "4  http://twitter.com/mourneopened/status/9739035...  "
      ]
     },
     "execution_count": 162,
     "metadata": {},
     "output_type": "execute_result"
    }
   ],
   "source": [
    "data.head()"
   ]
  },
  {
   "cell_type": "code",
   "execution_count": 163,
   "metadata": {},
   "outputs": [
    {
     "data": {
      "text/html": [
       "<div>\n",
       "<style scoped>\n",
       "    .dataframe tbody tr th:only-of-type {\n",
       "        vertical-align: middle;\n",
       "    }\n",
       "\n",
       "    .dataframe tbody tr th {\n",
       "        vertical-align: top;\n",
       "    }\n",
       "\n",
       "    .dataframe thead th {\n",
       "        text-align: right;\n",
       "    }\n",
       "</style>\n",
       "<table border=\"1\" class=\"dataframe\">\n",
       "  <thead>\n",
       "    <tr style=\"text-align: right;\">\n",
       "      <th></th>\n",
       "      <th>Unnamed: 0</th>\n",
       "      <th>Link</th>\n",
       "      <th>TImestamp</th>\n",
       "      <th>Timestamp</th>\n",
       "      <th>Tweet</th>\n",
       "      <th>User</th>\n",
       "    </tr>\n",
       "  </thead>\n",
       "  <tbody>\n",
       "    <tr>\n",
       "      <th>0</th>\n",
       "      <td>0</td>\n",
       "      <td>http://twitter.com/pehlivanhakki/status/903407...</td>\n",
       "      <td>September 01, 2017 at 12:00AM</td>\n",
       "      <td>NaN</td>\n",
       "      <td>RT @maxkeiser: Just $200 away from $5k. #Bitco...</td>\n",
       "      <td>@pehlivanhakki</td>\n",
       "    </tr>\n",
       "    <tr>\n",
       "      <th>1</th>\n",
       "      <td>1</td>\n",
       "      <td>http://twitter.com/torisamadotcom/status/90340...</td>\n",
       "      <td>September 01, 2017 at 12:00AM</td>\n",
       "      <td>NaN</td>\n",
       "      <td>RT @missbitcoin_mai: 昨日はドイツのメディア🇩🇪日本のメディア🇯🇵最後は...</td>\n",
       "      <td>@torisamadotcom</td>\n",
       "    </tr>\n",
       "    <tr>\n",
       "      <th>2</th>\n",
       "      <td>2</td>\n",
       "      <td>http://twitter.com/dignetdesigns/status/903407...</td>\n",
       "      <td>September 01, 2017 at 12:00AM</td>\n",
       "      <td>NaN</td>\n",
       "      <td>RT @AAlNaggar: What is a #Bitcoin and how does...</td>\n",
       "      <td>@dignetdesigns</td>\n",
       "    </tr>\n",
       "    <tr>\n",
       "      <th>3</th>\n",
       "      <td>3</td>\n",
       "      <td>http://twitter.com/coins24by7/status/903407191...</td>\n",
       "      <td>September 01, 2017 at 12:00AM</td>\n",
       "      <td>NaN</td>\n",
       "      <td>#bitcoin Price: $4,735.04 Chg: 3.08% Vol: $333...</td>\n",
       "      <td>@coins24by7</td>\n",
       "    </tr>\n",
       "    <tr>\n",
       "      <th>4</th>\n",
       "      <td>4</td>\n",
       "      <td>http://twitter.com/aguptaindia/status/90340719...</td>\n",
       "      <td>September 01, 2017 at 12:00AM</td>\n",
       "      <td>NaN</td>\n",
       "      <td>RT @CryptoNewswire: Top 6 BTC/USD Exchange Ord...</td>\n",
       "      <td>@aguptaindia</td>\n",
       "    </tr>\n",
       "  </tbody>\n",
       "</table>\n",
       "</div>"
      ],
      "text/plain": [
       "   Unnamed: 0                                               Link  \\\n",
       "0           0  http://twitter.com/pehlivanhakki/status/903407...   \n",
       "1           1  http://twitter.com/torisamadotcom/status/90340...   \n",
       "2           2  http://twitter.com/dignetdesigns/status/903407...   \n",
       "3           3  http://twitter.com/coins24by7/status/903407191...   \n",
       "4           4  http://twitter.com/aguptaindia/status/90340719...   \n",
       "\n",
       "                       TImestamp Timestamp  \\\n",
       "0  September 01, 2017 at 12:00AM       NaN   \n",
       "1  September 01, 2017 at 12:00AM       NaN   \n",
       "2  September 01, 2017 at 12:00AM       NaN   \n",
       "3  September 01, 2017 at 12:00AM       NaN   \n",
       "4  September 01, 2017 at 12:00AM       NaN   \n",
       "\n",
       "                                               Tweet             User  \n",
       "0  RT @maxkeiser: Just $200 away from $5k. #Bitco...   @pehlivanhakki  \n",
       "1  RT @missbitcoin_mai: 昨日はドイツのメディア🇩🇪日本のメディア🇯🇵最後は...  @torisamadotcom  \n",
       "2  RT @AAlNaggar: What is a #Bitcoin and how does...   @dignetdesigns  \n",
       "3  #bitcoin Price: $4,735.04 Chg: 3.08% Vol: $333...      @coins24by7  \n",
       "4  RT @CryptoNewswire: Top 6 BTC/USD Exchange Ord...     @aguptaindia  "
      ]
     },
     "execution_count": 163,
     "metadata": {},
     "output_type": "execute_result"
    }
   ],
   "source": [
    "test_data.head()"
   ]
  },
  {
   "cell_type": "code",
   "execution_count": 164,
   "metadata": {},
   "outputs": [],
   "source": [
    "data = pd.DataFrame.dropna(data)\n",
    "data = pd.DataFrame.drop_duplicates(data)"
   ]
  },
  {
   "cell_type": "code",
   "execution_count": 165,
   "metadata": {},
   "outputs": [],
   "source": [
    "data = data[data.Label != 'neutral']"
   ]
  },
  {
   "cell_type": "code",
   "execution_count": 166,
   "metadata": {},
   "outputs": [],
   "source": [
    "# Match test data to training data\n",
    "test_data['URL'] = test_data['Link']\n",
    "test_data['Username'] = test_data['User']\n",
    "test_data['Timestamp'] = test_data['Timestamp'].fillna('')\n",
    "test_data['TImestamp'] = test_data['TImestamp'].fillna('')\n",
    "test_data['Timestamp'] = test_data['TImestamp'].map(str) + test_data['Timestamp']\n",
    "test_data = test_data.drop(columns=['TImestamp', 'Link', 'User'])"
   ]
  },
  {
   "cell_type": "code",
   "execution_count": 167,
   "metadata": {},
   "outputs": [
    {
     "data": {
      "text/html": [
       "<div>\n",
       "<style scoped>\n",
       "    .dataframe tbody tr th:only-of-type {\n",
       "        vertical-align: middle;\n",
       "    }\n",
       "\n",
       "    .dataframe tbody tr th {\n",
       "        vertical-align: top;\n",
       "    }\n",
       "\n",
       "    .dataframe thead th {\n",
       "        text-align: right;\n",
       "    }\n",
       "</style>\n",
       "<table border=\"1\" class=\"dataframe\">\n",
       "  <thead>\n",
       "    <tr style=\"text-align: right;\">\n",
       "      <th></th>\n",
       "      <th>Unnamed: 0</th>\n",
       "      <th>Timestamp</th>\n",
       "      <th>Tweet</th>\n",
       "      <th>URL</th>\n",
       "      <th>Username</th>\n",
       "    </tr>\n",
       "  </thead>\n",
       "  <tbody>\n",
       "    <tr>\n",
       "      <th>0</th>\n",
       "      <td>0</td>\n",
       "      <td>September 01, 2017 at 12:00AM</td>\n",
       "      <td>RT @maxkeiser: Just $200 away from $5k. #Bitco...</td>\n",
       "      <td>http://twitter.com/pehlivanhakki/status/903407...</td>\n",
       "      <td>@pehlivanhakki</td>\n",
       "    </tr>\n",
       "    <tr>\n",
       "      <th>1</th>\n",
       "      <td>1</td>\n",
       "      <td>September 01, 2017 at 12:00AM</td>\n",
       "      <td>RT @missbitcoin_mai: 昨日はドイツのメディア🇩🇪日本のメディア🇯🇵最後は...</td>\n",
       "      <td>http://twitter.com/torisamadotcom/status/90340...</td>\n",
       "      <td>@torisamadotcom</td>\n",
       "    </tr>\n",
       "    <tr>\n",
       "      <th>2</th>\n",
       "      <td>2</td>\n",
       "      <td>September 01, 2017 at 12:00AM</td>\n",
       "      <td>RT @AAlNaggar: What is a #Bitcoin and how does...</td>\n",
       "      <td>http://twitter.com/dignetdesigns/status/903407...</td>\n",
       "      <td>@dignetdesigns</td>\n",
       "    </tr>\n",
       "    <tr>\n",
       "      <th>3</th>\n",
       "      <td>3</td>\n",
       "      <td>September 01, 2017 at 12:00AM</td>\n",
       "      <td>#bitcoin Price: $4,735.04 Chg: 3.08% Vol: $333...</td>\n",
       "      <td>http://twitter.com/coins24by7/status/903407191...</td>\n",
       "      <td>@coins24by7</td>\n",
       "    </tr>\n",
       "    <tr>\n",
       "      <th>4</th>\n",
       "      <td>4</td>\n",
       "      <td>September 01, 2017 at 12:00AM</td>\n",
       "      <td>RT @CryptoNewswire: Top 6 BTC/USD Exchange Ord...</td>\n",
       "      <td>http://twitter.com/aguptaindia/status/90340719...</td>\n",
       "      <td>@aguptaindia</td>\n",
       "    </tr>\n",
       "    <tr>\n",
       "      <th>5</th>\n",
       "      <td>5</td>\n",
       "      <td>September 01, 2017 at 12:00AM</td>\n",
       "      <td>Join the casino club at https://t.co/ZSV6pMtlX...</td>\n",
       "      <td>http://twitter.com/betbybitcoins/status/903407...</td>\n",
       "      <td>@betbybitcoins</td>\n",
       "    </tr>\n",
       "    <tr>\n",
       "      <th>6</th>\n",
       "      <td>6</td>\n",
       "      <td>September 01, 2017 at 12:00AM</td>\n",
       "      <td>#Bitcoin $4704.98 (d.+3.08%) #BTC\\n#Ethereum $...</td>\n",
       "      <td>http://twitter.com/BitcoinRater/status/9034072...</td>\n",
       "      <td>@BitcoinRater</td>\n",
       "    </tr>\n",
       "    <tr>\n",
       "      <th>7</th>\n",
       "      <td>7</td>\n",
       "      <td>September 01, 2017 at 12:00AM</td>\n",
       "      <td>RT @golangnews: Building a blockchain in go #b...</td>\n",
       "      <td>http://twitter.com/cool_golang/status/90340722...</td>\n",
       "      <td>@cool_golang</td>\n",
       "    </tr>\n",
       "    <tr>\n",
       "      <th>8</th>\n",
       "      <td>8</td>\n",
       "      <td>September 01, 2017 at 12:07AM</td>\n",
       "      <td>RT @HashRushGame: The last chance to participa...</td>\n",
       "      <td>http://twitter.com/EvgPerevozchiko/status/9034...</td>\n",
       "      <td>@EvgPerevozchiko</td>\n",
       "    </tr>\n",
       "    <tr>\n",
       "      <th>9</th>\n",
       "      <td>9</td>\n",
       "      <td>September 01, 2017 at 12:07AM</td>\n",
       "      <td>RT @WhalePanda: I never had any #Bitcoin to be...</td>\n",
       "      <td>http://twitter.com/Mr_CryptoRobot/status/90340...</td>\n",
       "      <td>@Mr_CryptoRobot</td>\n",
       "    </tr>\n",
       "    <tr>\n",
       "      <th>10</th>\n",
       "      <td>10</td>\n",
       "      <td>September 01, 2017 at 12:07AM</td>\n",
       "      <td>RT @HashRushGame: Had a great Facebook Live Q&amp;...</td>\n",
       "      <td>http://twitter.com/EvgPerevozchiko/status/9034...</td>\n",
       "      <td>@EvgPerevozchiko</td>\n",
       "    </tr>\n",
       "    <tr>\n",
       "      <th>11</th>\n",
       "      <td>11</td>\n",
       "      <td>September 01, 2017 at 12:07AM</td>\n",
       "      <td>RT @CryptoKirby: 🚀ALERT🚀\\n\\nIf #Bitcoin hits $...</td>\n",
       "      <td>http://twitter.com/Azertissou/status/903408896...</td>\n",
       "      <td>@Azertissou</td>\n",
       "    </tr>\n",
       "    <tr>\n",
       "      <th>12</th>\n",
       "      <td>12</td>\n",
       "      <td>September 01, 2017 at 12:07AM</td>\n",
       "      <td>RT @TamaraMcCleary: Dubai Goes #Blockchain to ...</td>\n",
       "      <td>http://twitter.com/StartUpRealTime/status/9034...</td>\n",
       "      <td>@StartUpRealTime</td>\n",
       "    </tr>\n",
       "    <tr>\n",
       "      <th>13</th>\n",
       "      <td>13</td>\n",
       "      <td>September 01, 2017 at 12:07AM</td>\n",
       "      <td>RT @creamcoin: CREAMcoin article\\n\\nhttps://t....</td>\n",
       "      <td>http://twitter.com/kekuiranatafu/status/903409...</td>\n",
       "      <td>@kekuiranatafu</td>\n",
       "    </tr>\n",
       "    <tr>\n",
       "      <th>14</th>\n",
       "      <td>14</td>\n",
       "      <td>September 01, 2017 at 12:07AM</td>\n",
       "      <td>Considering there are only 16 million $btc, fe...</td>\n",
       "      <td>http://twitter.com/JackDolan_x/status/90340902...</td>\n",
       "      <td>@JackDolan_x</td>\n",
       "    </tr>\n",
       "    <tr>\n",
       "      <th>15</th>\n",
       "      <td>15</td>\n",
       "      <td>September 01, 2017 at 12:07AM</td>\n",
       "      <td>BYSPT Ethnic Coins Necklace\\nNow accepting #Bi...</td>\n",
       "      <td>http://twitter.com/DigSwag/status/903409030005...</td>\n",
       "      <td>@DigSwag</td>\n",
       "    </tr>\n",
       "    <tr>\n",
       "      <th>16</th>\n",
       "      <td>16</td>\n",
       "      <td>September 01, 2017 at 12:07AM</td>\n",
       "      <td>RT @stone22stone: Here’s why Bitcoin Cash WILL...</td>\n",
       "      <td>http://twitter.com/MitbullTim/status/903409037...</td>\n",
       "      <td>@MitbullTim</td>\n",
       "    </tr>\n",
       "    <tr>\n",
       "      <th>17</th>\n",
       "      <td>17</td>\n",
       "      <td>September 01, 2017 at 12:07AM</td>\n",
       "      <td>#bitcoin prices on the up, a great time to pla...</td>\n",
       "      <td>http://twitter.com/SkilfulPoker/status/9034090...</td>\n",
       "      <td>@SkilfulPoker</td>\n",
       "    </tr>\n",
       "    <tr>\n",
       "      <th>18</th>\n",
       "      <td>18</td>\n",
       "      <td>September 01, 2017 at 12:07AM</td>\n",
       "      <td>RT @HashRushGame: The last chance to participa...</td>\n",
       "      <td>http://twitter.com/lazinevgenii999/status/9034...</td>\n",
       "      <td>@lazinevgenii999</td>\n",
       "    </tr>\n",
       "    <tr>\n",
       "      <th>19</th>\n",
       "      <td>19</td>\n",
       "      <td>September 01, 2017 at 12:08AM</td>\n",
       "      <td>2X Silver Bitcoin Collectors Coin CLAD SILVER ...</td>\n",
       "      <td>http://twitter.com/BitcoinBidder/status/903409...</td>\n",
       "      <td>@BitcoinBidder</td>\n",
       "    </tr>\n",
       "    <tr>\n",
       "      <th>20</th>\n",
       "      <td>20</td>\n",
       "      <td>September 01, 2017 at 12:08AM</td>\n",
       "      <td>RT @HashRushGame: Had a great Facebook Live Q&amp;...</td>\n",
       "      <td>http://twitter.com/lazinevgenii999/status/9034...</td>\n",
       "      <td>@lazinevgenii999</td>\n",
       "    </tr>\n",
       "    <tr>\n",
       "      <th>21</th>\n",
       "      <td>21</td>\n",
       "      <td>September 01, 2017 at 12:08AM</td>\n",
       "      <td>RT @cryptogenegroup: Introducing The Cryptogen...</td>\n",
       "      <td>http://twitter.com/TradupSeje/status/903409112...</td>\n",
       "      <td>@TradupSeje</td>\n",
       "    </tr>\n",
       "    <tr>\n",
       "      <th>22</th>\n",
       "      <td>22</td>\n",
       "      <td>September 01, 2017 at 12:08AM</td>\n",
       "      <td>Coinbase Captures Majority of Virtual Currency...</td>\n",
       "      <td>http://twitter.com/BitcoinNetworks/status/9034...</td>\n",
       "      <td>@BitcoinNetworks</td>\n",
       "    </tr>\n",
       "    <tr>\n",
       "      <th>23</th>\n",
       "      <td>23</td>\n",
       "      <td>September 01, 2017 at 12:08AM</td>\n",
       "      <td>Litecoin Breaks Another Record: The Bitcoin Ri...</td>\n",
       "      <td>http://twitter.com/suicidalbanker/status/90340...</td>\n",
       "      <td>@suicidalbanker</td>\n",
       "    </tr>\n",
       "    <tr>\n",
       "      <th>24</th>\n",
       "      <td>24</td>\n",
       "      <td>September 01, 2017 at 12:08AM</td>\n",
       "      <td>Exchanges that sweep private keys https://t.co...</td>\n",
       "      <td>http://twitter.com/btc_reddit/status/903409160...</td>\n",
       "      <td>@btc_reddit</td>\n",
       "    </tr>\n",
       "    <tr>\n",
       "      <th>25</th>\n",
       "      <td>25</td>\n",
       "      <td>September 01, 2017 at 12:08AM</td>\n",
       "      <td>6 of the World's Biggest Banks are teaming up ...</td>\n",
       "      <td>http://twitter.com/btc_reddit/status/903409170...</td>\n",
       "      <td>@btc_reddit</td>\n",
       "    </tr>\n",
       "    <tr>\n",
       "      <th>26</th>\n",
       "      <td>26</td>\n",
       "      <td>September 01, 2017 at 12:08AM</td>\n",
       "      <td>RT @memobarba: Cuidado! #Bitcoin nada tiene qu...</td>\n",
       "      <td>http://twitter.com/DiegoLeonU/status/903409175...</td>\n",
       "      <td>@DiegoLeonU</td>\n",
       "    </tr>\n",
       "    <tr>\n",
       "      <th>27</th>\n",
       "      <td>27</td>\n",
       "      <td>September 01, 2017 at 12:08AM</td>\n",
       "      <td>What it feels like to earn #bitcoin on a daily...</td>\n",
       "      <td>http://twitter.com/etundy001/status/9034092156...</td>\n",
       "      <td>@etundy001</td>\n",
       "    </tr>\n",
       "    <tr>\n",
       "      <th>28</th>\n",
       "      <td>28</td>\n",
       "      <td>September 01, 2017 at 12:08AM</td>\n",
       "      <td>Is #Bitcoin Really The Future Of Money? https:...</td>\n",
       "      <td>http://twitter.com/blockchainhelpr/status/9034...</td>\n",
       "      <td>@blockchainhelpr</td>\n",
       "    </tr>\n",
       "    <tr>\n",
       "      <th>29</th>\n",
       "      <td>29</td>\n",
       "      <td>September 01, 2017 at 12:08AM</td>\n",
       "      <td>Follow live: Ohio State visits Indiana https:/...</td>\n",
       "      <td>http://twitter.com/SportsbookBTC/status/903409...</td>\n",
       "      <td>@SportsbookBTC</td>\n",
       "    </tr>\n",
       "    <tr>\n",
       "      <th>...</th>\n",
       "      <td>...</td>\n",
       "      <td>...</td>\n",
       "      <td>...</td>\n",
       "      <td>...</td>\n",
       "      <td>...</td>\n",
       "    </tr>\n",
       "    <tr>\n",
       "      <th>134209</th>\n",
       "      <td>134209</td>\n",
       "      <td>September 30, 2017 at 03:46AM</td>\n",
       "      <td>RT @AkonyOne: $DCR buy now, very cheap at bott...</td>\n",
       "      <td>http://twitter.com/WanTerLienDienK/status/9139...</td>\n",
       "      <td>@WanTerLienDienK</td>\n",
       "    </tr>\n",
       "    <tr>\n",
       "      <th>134210</th>\n",
       "      <td>134210</td>\n",
       "      <td>September 30, 2017 at 03:46AM</td>\n",
       "      <td>RT @suicidalbanker: https://t.co/0ScptZxYqG \"H...</td>\n",
       "      <td>http://twitter.com/BitWhizzUK/status/913973360...</td>\n",
       "      <td>@BitWhizzUK</td>\n",
       "    </tr>\n",
       "    <tr>\n",
       "      <th>134211</th>\n",
       "      <td>134211</td>\n",
       "      <td>September 30, 2017 at 03:50AM</td>\n",
       "      <td>RT @zloadr: Purchase tokens with BITCOIN!\\nhtt...</td>\n",
       "      <td>http://twitter.com/frugaljoanne/status/9139743...</td>\n",
       "      <td>@frugaljoanne</td>\n",
       "    </tr>\n",
       "    <tr>\n",
       "      <th>134212</th>\n",
       "      <td>134212</td>\n",
       "      <td>September 30, 2017 at 03:50AM</td>\n",
       "      <td>RT @_CelebrityDiss: #btc IMF chief tells centr...</td>\n",
       "      <td>http://twitter.com/ethereum_bot/status/9139743...</td>\n",
       "      <td>@ethereum_bot</td>\n",
       "    </tr>\n",
       "    <tr>\n",
       "      <th>134213</th>\n",
       "      <td>134213</td>\n",
       "      <td>September 30, 2017 at 03:50AM</td>\n",
       "      <td>RT @Last_Crypto: thats so true. #bitcoin #cryp...</td>\n",
       "      <td>http://twitter.com/SavaBerezhko/status/9139744...</td>\n",
       "      <td>@SavaBerezhko</td>\n",
       "    </tr>\n",
       "    <tr>\n",
       "      <th>134214</th>\n",
       "      <td>134214</td>\n",
       "      <td>September 30, 2017 at 03:50AM</td>\n",
       "      <td>RT @wirelineio: A blow to #bitcoin as fund dro...</td>\n",
       "      <td>http://twitter.com/KeniaHua/status/91397442003...</td>\n",
       "      <td>@KeniaHua</td>\n",
       "    </tr>\n",
       "    <tr>\n",
       "      <th>134215</th>\n",
       "      <td>134215</td>\n",
       "      <td>September 30, 2017 at 03:50AM</td>\n",
       "      <td>RT @pusliar: IMF chief tells central bankers t...</td>\n",
       "      <td>http://twitter.com/ethereum_bot/status/9139744...</td>\n",
       "      <td>@ethereum_bot</td>\n",
       "    </tr>\n",
       "    <tr>\n",
       "      <th>134216</th>\n",
       "      <td>134216</td>\n",
       "      <td>September 30, 2017 at 03:50AM</td>\n",
       "      <td>#dragonchain #bitcoin #ico #InitialCoinOfferin...</td>\n",
       "      <td>http://twitter.com/sadbtce/status/913974429838...</td>\n",
       "      <td>@sadbtce</td>\n",
       "    </tr>\n",
       "    <tr>\n",
       "      <th>134217</th>\n",
       "      <td>134217</td>\n",
       "      <td>September 30, 2017 at 03:51AM</td>\n",
       "      <td>RT @sheena2804: #Blockchain Use Cases. #infogr...</td>\n",
       "      <td>http://twitter.com/eztechwin/status/9139744650...</td>\n",
       "      <td>@eztechwin</td>\n",
       "    </tr>\n",
       "    <tr>\n",
       "      <th>134218</th>\n",
       "      <td>134218</td>\n",
       "      <td>September 30, 2017 at 03:51AM</td>\n",
       "      <td>RT @jaredctate: It is impossible to peg #Digit...</td>\n",
       "      <td>http://twitter.com/EdgarSoaresARCH/status/9139...</td>\n",
       "      <td>@EdgarSoaresARCH</td>\n",
       "    </tr>\n",
       "    <tr>\n",
       "      <th>134219</th>\n",
       "      <td>134219</td>\n",
       "      <td>September 30, 2017 at 03:51AM</td>\n",
       "      <td>RT @sheena2804: #Blockchain Use Cases. #infogr...</td>\n",
       "      <td>http://twitter.com/GalioFranck/status/91397447...</td>\n",
       "      <td>@GalioFranck</td>\n",
       "    </tr>\n",
       "    <tr>\n",
       "      <th>134220</th>\n",
       "      <td>134220</td>\n",
       "      <td>September 30, 2017 at 03:51AM</td>\n",
       "      <td>RT @QtumOfficial: We will see you at Berkeley ...</td>\n",
       "      <td>http://twitter.com/vevue10/status/913974480266...</td>\n",
       "      <td>@vevue10</td>\n",
       "    </tr>\n",
       "    <tr>\n",
       "      <th>134221</th>\n",
       "      <td>134221</td>\n",
       "      <td>September 30, 2017 at 03:51AM</td>\n",
       "      <td>RT @RhridayHasan: Retweeted asaduzzaman22 (@as...</td>\n",
       "      <td>http://twitter.com/eztechwin/status/9139744918...</td>\n",
       "      <td>@eztechwin</td>\n",
       "    </tr>\n",
       "    <tr>\n",
       "      <th>134222</th>\n",
       "      <td>134222</td>\n",
       "      <td>September 30, 2017 at 03:51AM</td>\n",
       "      <td>Don’t usually show my hands.. here’s a glimpse...</td>\n",
       "      <td>http://twitter.com/wiser_confucius/status/9139...</td>\n",
       "      <td>@wiser_confucius</td>\n",
       "    </tr>\n",
       "    <tr>\n",
       "      <th>134223</th>\n",
       "      <td>134223</td>\n",
       "      <td>September 30, 2017 at 03:51AM</td>\n",
       "      <td>RT @jaredctate: The term \"#DigitalAsset\" is a ...</td>\n",
       "      <td>http://twitter.com/EdgarSoaresARCH/status/9139...</td>\n",
       "      <td>@EdgarSoaresARCH</td>\n",
       "    </tr>\n",
       "    <tr>\n",
       "      <th>134224</th>\n",
       "      <td>134224</td>\n",
       "      <td>September 30, 2017 at 03:51AM</td>\n",
       "      <td>Why Everyone Missed the Most Mind-Blowing Feat...</td>\n",
       "      <td>http://twitter.com/Rubencoin/status/9139745003...</td>\n",
       "      <td>@Rubencoin</td>\n",
       "    </tr>\n",
       "    <tr>\n",
       "      <th>134225</th>\n",
       "      <td>134225</td>\n",
       "      <td>September 30, 2017 at 03:51AM</td>\n",
       "      <td>RT @pusliar: IMF chief tells central bankers t...</td>\n",
       "      <td>http://twitter.com/Mr_Suaz/status/913974503864...</td>\n",
       "      <td>@Mr_Suaz</td>\n",
       "    </tr>\n",
       "    <tr>\n",
       "      <th>134226</th>\n",
       "      <td>134226</td>\n",
       "      <td>September 30, 2017 at 03:51AM</td>\n",
       "      <td>RT @RhridayHasan: Retweeted pokhreli (@bibas21...</td>\n",
       "      <td>http://twitter.com/eztechwin/status/9139745100...</td>\n",
       "      <td>@eztechwin</td>\n",
       "    </tr>\n",
       "    <tr>\n",
       "      <th>134227</th>\n",
       "      <td>134227</td>\n",
       "      <td>September 30, 2017 at 03:51AM</td>\n",
       "      <td>RT @reach2ratan: What is #Blockchain?\\n\\nvia @...</td>\n",
       "      <td>http://twitter.com/BasantKumarMi18/status/9139...</td>\n",
       "      <td>@BasantKumarMi18</td>\n",
       "    </tr>\n",
       "    <tr>\n",
       "      <th>134228</th>\n",
       "      <td>134228</td>\n",
       "      <td>September 30, 2017 at 03:51AM</td>\n",
       "      <td>RT @reach2ratan: What is #Blockchain?\\n\\n#Fint...</td>\n",
       "      <td>http://twitter.com/BasantKumarMi18/status/9139...</td>\n",
       "      <td>@BasantKumarMi18</td>\n",
       "    </tr>\n",
       "    <tr>\n",
       "      <th>134229</th>\n",
       "      <td>134229</td>\n",
       "      <td>September 30, 2017 at 03:51AM</td>\n",
       "      <td>RT @zha: #btc IMF chief tells central bankers ...</td>\n",
       "      <td>http://twitter.com/eztechwin/status/9139745281...</td>\n",
       "      <td>@eztechwin</td>\n",
       "    </tr>\n",
       "    <tr>\n",
       "      <th>134230</th>\n",
       "      <td>134230</td>\n",
       "      <td>September 30, 2017 at 03:51AM</td>\n",
       "      <td>RT @_CelebrityDiss: #btc IMF chief tells centr...</td>\n",
       "      <td>http://twitter.com/eztechwin/status/9139745378...</td>\n",
       "      <td>@eztechwin</td>\n",
       "    </tr>\n",
       "    <tr>\n",
       "      <th>134231</th>\n",
       "      <td>134231</td>\n",
       "      <td>September 30, 2017 at 03:51AM</td>\n",
       "      <td>RT @reach2ratan: How #Bitcoin Works?\\n\\nvia @J...</td>\n",
       "      <td>http://twitter.com/BasantKumarMi18/status/9139...</td>\n",
       "      <td>@BasantKumarMi18</td>\n",
       "    </tr>\n",
       "    <tr>\n",
       "      <th>134232</th>\n",
       "      <td>134232</td>\n",
       "      <td>September 30, 2017 at 03:51AM</td>\n",
       "      <td>RT @feeed_cc: #FEEED Token Sale \\n#ICO #Bitcoi...</td>\n",
       "      <td>http://twitter.com/GalioFranck/status/91397456...</td>\n",
       "      <td>@GalioFranck</td>\n",
       "    </tr>\n",
       "    <tr>\n",
       "      <th>134233</th>\n",
       "      <td>134233</td>\n",
       "      <td>September 30, 2017 at 03:51AM</td>\n",
       "      <td>Optimal tx fee: 80 satoshi per byte. \\nBTC = $...</td>\n",
       "      <td>http://twitter.com/StatXbt/status/913974570247...</td>\n",
       "      <td>@StatXbt</td>\n",
       "    </tr>\n",
       "    <tr>\n",
       "      <th>134234</th>\n",
       "      <td>134234</td>\n",
       "      <td>September 30, 2017 at 03:51AM</td>\n",
       "      <td>RT @sheena2804: #Blockchain Use Cases. #infogr...</td>\n",
       "      <td>http://twitter.com/Manifattura40/status/913974...</td>\n",
       "      <td>@Manifattura40</td>\n",
       "    </tr>\n",
       "    <tr>\n",
       "      <th>134235</th>\n",
       "      <td>134235</td>\n",
       "      <td>September 30, 2017 at 03:51AM</td>\n",
       "      <td>RT @cryptogrind: Check it out! https://t.co/03...</td>\n",
       "      <td>http://twitter.com/investment_easy/status/9139...</td>\n",
       "      <td>@investment_easy</td>\n",
       "    </tr>\n",
       "    <tr>\n",
       "      <th>134236</th>\n",
       "      <td>134236</td>\n",
       "      <td>September 30, 2017 at 03:52AM</td>\n",
       "      <td>RT @RBAdvisors: #Bitcoin #ETF selling at 85% a...</td>\n",
       "      <td>http://twitter.com/rickharterroc/status/913974...</td>\n",
       "      <td>@rickharterroc</td>\n",
       "    </tr>\n",
       "    <tr>\n",
       "      <th>134237</th>\n",
       "      <td>134237</td>\n",
       "      <td>September 30, 2017 at 03:55AM</td>\n",
       "      <td>#EMC2  Target  7k - 8k - 9k ...  #EINSTEINIUM ...</td>\n",
       "      <td>http://twitter.com/de2rlufurno/status/91397547...</td>\n",
       "      <td>@de2rlufurno</td>\n",
       "    </tr>\n",
       "    <tr>\n",
       "      <th>134238</th>\n",
       "      <td>134238</td>\n",
       "      <td>September 30, 2017 at 03:55AM</td>\n",
       "      <td>Sparks hold court to take 2-1 lead in WNBA Fin...</td>\n",
       "      <td>http://twitter.com/SportsbookBTC/status/913975...</td>\n",
       "      <td>@SportsbookBTC</td>\n",
       "    </tr>\n",
       "  </tbody>\n",
       "</table>\n",
       "<p>134239 rows × 5 columns</p>\n",
       "</div>"
      ],
      "text/plain": [
       "        Unnamed: 0                      Timestamp  \\\n",
       "0                0  September 01, 2017 at 12:00AM   \n",
       "1                1  September 01, 2017 at 12:00AM   \n",
       "2                2  September 01, 2017 at 12:00AM   \n",
       "3                3  September 01, 2017 at 12:00AM   \n",
       "4                4  September 01, 2017 at 12:00AM   \n",
       "5                5  September 01, 2017 at 12:00AM   \n",
       "6                6  September 01, 2017 at 12:00AM   \n",
       "7                7  September 01, 2017 at 12:00AM   \n",
       "8                8  September 01, 2017 at 12:07AM   \n",
       "9                9  September 01, 2017 at 12:07AM   \n",
       "10              10  September 01, 2017 at 12:07AM   \n",
       "11              11  September 01, 2017 at 12:07AM   \n",
       "12              12  September 01, 2017 at 12:07AM   \n",
       "13              13  September 01, 2017 at 12:07AM   \n",
       "14              14  September 01, 2017 at 12:07AM   \n",
       "15              15  September 01, 2017 at 12:07AM   \n",
       "16              16  September 01, 2017 at 12:07AM   \n",
       "17              17  September 01, 2017 at 12:07AM   \n",
       "18              18  September 01, 2017 at 12:07AM   \n",
       "19              19  September 01, 2017 at 12:08AM   \n",
       "20              20  September 01, 2017 at 12:08AM   \n",
       "21              21  September 01, 2017 at 12:08AM   \n",
       "22              22  September 01, 2017 at 12:08AM   \n",
       "23              23  September 01, 2017 at 12:08AM   \n",
       "24              24  September 01, 2017 at 12:08AM   \n",
       "25              25  September 01, 2017 at 12:08AM   \n",
       "26              26  September 01, 2017 at 12:08AM   \n",
       "27              27  September 01, 2017 at 12:08AM   \n",
       "28              28  September 01, 2017 at 12:08AM   \n",
       "29              29  September 01, 2017 at 12:08AM   \n",
       "...            ...                            ...   \n",
       "134209      134209  September 30, 2017 at 03:46AM   \n",
       "134210      134210  September 30, 2017 at 03:46AM   \n",
       "134211      134211  September 30, 2017 at 03:50AM   \n",
       "134212      134212  September 30, 2017 at 03:50AM   \n",
       "134213      134213  September 30, 2017 at 03:50AM   \n",
       "134214      134214  September 30, 2017 at 03:50AM   \n",
       "134215      134215  September 30, 2017 at 03:50AM   \n",
       "134216      134216  September 30, 2017 at 03:50AM   \n",
       "134217      134217  September 30, 2017 at 03:51AM   \n",
       "134218      134218  September 30, 2017 at 03:51AM   \n",
       "134219      134219  September 30, 2017 at 03:51AM   \n",
       "134220      134220  September 30, 2017 at 03:51AM   \n",
       "134221      134221  September 30, 2017 at 03:51AM   \n",
       "134222      134222  September 30, 2017 at 03:51AM   \n",
       "134223      134223  September 30, 2017 at 03:51AM   \n",
       "134224      134224  September 30, 2017 at 03:51AM   \n",
       "134225      134225  September 30, 2017 at 03:51AM   \n",
       "134226      134226  September 30, 2017 at 03:51AM   \n",
       "134227      134227  September 30, 2017 at 03:51AM   \n",
       "134228      134228  September 30, 2017 at 03:51AM   \n",
       "134229      134229  September 30, 2017 at 03:51AM   \n",
       "134230      134230  September 30, 2017 at 03:51AM   \n",
       "134231      134231  September 30, 2017 at 03:51AM   \n",
       "134232      134232  September 30, 2017 at 03:51AM   \n",
       "134233      134233  September 30, 2017 at 03:51AM   \n",
       "134234      134234  September 30, 2017 at 03:51AM   \n",
       "134235      134235  September 30, 2017 at 03:51AM   \n",
       "134236      134236  September 30, 2017 at 03:52AM   \n",
       "134237      134237  September 30, 2017 at 03:55AM   \n",
       "134238      134238  September 30, 2017 at 03:55AM   \n",
       "\n",
       "                                                    Tweet  \\\n",
       "0       RT @maxkeiser: Just $200 away from $5k. #Bitco...   \n",
       "1       RT @missbitcoin_mai: 昨日はドイツのメディア🇩🇪日本のメディア🇯🇵最後は...   \n",
       "2       RT @AAlNaggar: What is a #Bitcoin and how does...   \n",
       "3       #bitcoin Price: $4,735.04 Chg: 3.08% Vol: $333...   \n",
       "4       RT @CryptoNewswire: Top 6 BTC/USD Exchange Ord...   \n",
       "5       Join the casino club at https://t.co/ZSV6pMtlX...   \n",
       "6       #Bitcoin $4704.98 (d.+3.08%) #BTC\\n#Ethereum $...   \n",
       "7       RT @golangnews: Building a blockchain in go #b...   \n",
       "8       RT @HashRushGame: The last chance to participa...   \n",
       "9       RT @WhalePanda: I never had any #Bitcoin to be...   \n",
       "10      RT @HashRushGame: Had a great Facebook Live Q&...   \n",
       "11      RT @CryptoKirby: 🚀ALERT🚀\\n\\nIf #Bitcoin hits $...   \n",
       "12      RT @TamaraMcCleary: Dubai Goes #Blockchain to ...   \n",
       "13      RT @creamcoin: CREAMcoin article\\n\\nhttps://t....   \n",
       "14      Considering there are only 16 million $btc, fe...   \n",
       "15      BYSPT Ethnic Coins Necklace\\nNow accepting #Bi...   \n",
       "16      RT @stone22stone: Here’s why Bitcoin Cash WILL...   \n",
       "17      #bitcoin prices on the up, a great time to pla...   \n",
       "18      RT @HashRushGame: The last chance to participa...   \n",
       "19      2X Silver Bitcoin Collectors Coin CLAD SILVER ...   \n",
       "20      RT @HashRushGame: Had a great Facebook Live Q&...   \n",
       "21      RT @cryptogenegroup: Introducing The Cryptogen...   \n",
       "22      Coinbase Captures Majority of Virtual Currency...   \n",
       "23      Litecoin Breaks Another Record: The Bitcoin Ri...   \n",
       "24      Exchanges that sweep private keys https://t.co...   \n",
       "25      6 of the World's Biggest Banks are teaming up ...   \n",
       "26      RT @memobarba: Cuidado! #Bitcoin nada tiene qu...   \n",
       "27      What it feels like to earn #bitcoin on a daily...   \n",
       "28      Is #Bitcoin Really The Future Of Money? https:...   \n",
       "29      Follow live: Ohio State visits Indiana https:/...   \n",
       "...                                                   ...   \n",
       "134209  RT @AkonyOne: $DCR buy now, very cheap at bott...   \n",
       "134210  RT @suicidalbanker: https://t.co/0ScptZxYqG \"H...   \n",
       "134211  RT @zloadr: Purchase tokens with BITCOIN!\\nhtt...   \n",
       "134212  RT @_CelebrityDiss: #btc IMF chief tells centr...   \n",
       "134213  RT @Last_Crypto: thats so true. #bitcoin #cryp...   \n",
       "134214  RT @wirelineio: A blow to #bitcoin as fund dro...   \n",
       "134215  RT @pusliar: IMF chief tells central bankers t...   \n",
       "134216  #dragonchain #bitcoin #ico #InitialCoinOfferin...   \n",
       "134217  RT @sheena2804: #Blockchain Use Cases. #infogr...   \n",
       "134218  RT @jaredctate: It is impossible to peg #Digit...   \n",
       "134219  RT @sheena2804: #Blockchain Use Cases. #infogr...   \n",
       "134220  RT @QtumOfficial: We will see you at Berkeley ...   \n",
       "134221  RT @RhridayHasan: Retweeted asaduzzaman22 (@as...   \n",
       "134222  Don’t usually show my hands.. here’s a glimpse...   \n",
       "134223  RT @jaredctate: The term \"#DigitalAsset\" is a ...   \n",
       "134224  Why Everyone Missed the Most Mind-Blowing Feat...   \n",
       "134225  RT @pusliar: IMF chief tells central bankers t...   \n",
       "134226  RT @RhridayHasan: Retweeted pokhreli (@bibas21...   \n",
       "134227  RT @reach2ratan: What is #Blockchain?\\n\\nvia @...   \n",
       "134228  RT @reach2ratan: What is #Blockchain?\\n\\n#Fint...   \n",
       "134229  RT @zha: #btc IMF chief tells central bankers ...   \n",
       "134230  RT @_CelebrityDiss: #btc IMF chief tells centr...   \n",
       "134231  RT @reach2ratan: How #Bitcoin Works?\\n\\nvia @J...   \n",
       "134232  RT @feeed_cc: #FEEED Token Sale \\n#ICO #Bitcoi...   \n",
       "134233  Optimal tx fee: 80 satoshi per byte. \\nBTC = $...   \n",
       "134234  RT @sheena2804: #Blockchain Use Cases. #infogr...   \n",
       "134235  RT @cryptogrind: Check it out! https://t.co/03...   \n",
       "134236  RT @RBAdvisors: #Bitcoin #ETF selling at 85% a...   \n",
       "134237  #EMC2  Target  7k - 8k - 9k ...  #EINSTEINIUM ...   \n",
       "134238  Sparks hold court to take 2-1 lead in WNBA Fin...   \n",
       "\n",
       "                                                      URL          Username  \n",
       "0       http://twitter.com/pehlivanhakki/status/903407...    @pehlivanhakki  \n",
       "1       http://twitter.com/torisamadotcom/status/90340...   @torisamadotcom  \n",
       "2       http://twitter.com/dignetdesigns/status/903407...    @dignetdesigns  \n",
       "3       http://twitter.com/coins24by7/status/903407191...       @coins24by7  \n",
       "4       http://twitter.com/aguptaindia/status/90340719...      @aguptaindia  \n",
       "5       http://twitter.com/betbybitcoins/status/903407...    @betbybitcoins  \n",
       "6       http://twitter.com/BitcoinRater/status/9034072...     @BitcoinRater  \n",
       "7       http://twitter.com/cool_golang/status/90340722...      @cool_golang  \n",
       "8       http://twitter.com/EvgPerevozchiko/status/9034...  @EvgPerevozchiko  \n",
       "9       http://twitter.com/Mr_CryptoRobot/status/90340...   @Mr_CryptoRobot  \n",
       "10      http://twitter.com/EvgPerevozchiko/status/9034...  @EvgPerevozchiko  \n",
       "11      http://twitter.com/Azertissou/status/903408896...       @Azertissou  \n",
       "12      http://twitter.com/StartUpRealTime/status/9034...  @StartUpRealTime  \n",
       "13      http://twitter.com/kekuiranatafu/status/903409...    @kekuiranatafu  \n",
       "14      http://twitter.com/JackDolan_x/status/90340902...      @JackDolan_x  \n",
       "15      http://twitter.com/DigSwag/status/903409030005...          @DigSwag  \n",
       "16      http://twitter.com/MitbullTim/status/903409037...       @MitbullTim  \n",
       "17      http://twitter.com/SkilfulPoker/status/9034090...     @SkilfulPoker  \n",
       "18      http://twitter.com/lazinevgenii999/status/9034...  @lazinevgenii999  \n",
       "19      http://twitter.com/BitcoinBidder/status/903409...    @BitcoinBidder  \n",
       "20      http://twitter.com/lazinevgenii999/status/9034...  @lazinevgenii999  \n",
       "21      http://twitter.com/TradupSeje/status/903409112...       @TradupSeje  \n",
       "22      http://twitter.com/BitcoinNetworks/status/9034...  @BitcoinNetworks  \n",
       "23      http://twitter.com/suicidalbanker/status/90340...   @suicidalbanker  \n",
       "24      http://twitter.com/btc_reddit/status/903409160...       @btc_reddit  \n",
       "25      http://twitter.com/btc_reddit/status/903409170...       @btc_reddit  \n",
       "26      http://twitter.com/DiegoLeonU/status/903409175...       @DiegoLeonU  \n",
       "27      http://twitter.com/etundy001/status/9034092156...        @etundy001  \n",
       "28      http://twitter.com/blockchainhelpr/status/9034...  @blockchainhelpr  \n",
       "29      http://twitter.com/SportsbookBTC/status/903409...    @SportsbookBTC  \n",
       "...                                                   ...               ...  \n",
       "134209  http://twitter.com/WanTerLienDienK/status/9139...  @WanTerLienDienK  \n",
       "134210  http://twitter.com/BitWhizzUK/status/913973360...       @BitWhizzUK  \n",
       "134211  http://twitter.com/frugaljoanne/status/9139743...     @frugaljoanne  \n",
       "134212  http://twitter.com/ethereum_bot/status/9139743...     @ethereum_bot  \n",
       "134213  http://twitter.com/SavaBerezhko/status/9139744...     @SavaBerezhko  \n",
       "134214  http://twitter.com/KeniaHua/status/91397442003...         @KeniaHua  \n",
       "134215  http://twitter.com/ethereum_bot/status/9139744...     @ethereum_bot  \n",
       "134216  http://twitter.com/sadbtce/status/913974429838...          @sadbtce  \n",
       "134217  http://twitter.com/eztechwin/status/9139744650...        @eztechwin  \n",
       "134218  http://twitter.com/EdgarSoaresARCH/status/9139...  @EdgarSoaresARCH  \n",
       "134219  http://twitter.com/GalioFranck/status/91397447...      @GalioFranck  \n",
       "134220  http://twitter.com/vevue10/status/913974480266...          @vevue10  \n",
       "134221  http://twitter.com/eztechwin/status/9139744918...        @eztechwin  \n",
       "134222  http://twitter.com/wiser_confucius/status/9139...  @wiser_confucius  \n",
       "134223  http://twitter.com/EdgarSoaresARCH/status/9139...  @EdgarSoaresARCH  \n",
       "134224  http://twitter.com/Rubencoin/status/9139745003...        @Rubencoin  \n",
       "134225  http://twitter.com/Mr_Suaz/status/913974503864...          @Mr_Suaz  \n",
       "134226  http://twitter.com/eztechwin/status/9139745100...        @eztechwin  \n",
       "134227  http://twitter.com/BasantKumarMi18/status/9139...  @BasantKumarMi18  \n",
       "134228  http://twitter.com/BasantKumarMi18/status/9139...  @BasantKumarMi18  \n",
       "134229  http://twitter.com/eztechwin/status/9139745281...        @eztechwin  \n",
       "134230  http://twitter.com/eztechwin/status/9139745378...        @eztechwin  \n",
       "134231  http://twitter.com/BasantKumarMi18/status/9139...  @BasantKumarMi18  \n",
       "134232  http://twitter.com/GalioFranck/status/91397456...      @GalioFranck  \n",
       "134233  http://twitter.com/StatXbt/status/913974570247...          @StatXbt  \n",
       "134234  http://twitter.com/Manifattura40/status/913974...    @Manifattura40  \n",
       "134235  http://twitter.com/investment_easy/status/9139...  @investment_easy  \n",
       "134236  http://twitter.com/rickharterroc/status/913974...    @rickharterroc  \n",
       "134237  http://twitter.com/de2rlufurno/status/91397547...      @de2rlufurno  \n",
       "134238  http://twitter.com/SportsbookBTC/status/913975...    @SportsbookBTC  \n",
       "\n",
       "[134239 rows x 5 columns]"
      ]
     },
     "execution_count": 167,
     "metadata": {},
     "output_type": "execute_result"
    }
   ],
   "source": [
    "test_data"
   ]
  },
  {
   "cell_type": "markdown",
   "metadata": {},
   "source": [
    "## Multi-class classification system with 5 classes"
   ]
  },
  {
   "cell_type": "code",
   "execution_count": 168,
   "metadata": {},
   "outputs": [
    {
     "name": "stdout",
     "output_type": "stream",
     "text": [
      "5\n",
      "1338\n"
     ]
    }
   ],
   "source": [
    "print(len(data.Label.unique()))\n",
    "print(len(data))"
   ]
  },
  {
   "cell_type": "code",
   "execution_count": 169,
   "metadata": {},
   "outputs": [
    {
     "name": "stdout",
     "output_type": "stream",
     "text": [
      "Label\n",
      "doom     62\n",
      "hype    177\n",
      "neg      91\n",
      "pos     211\n",
      "spam    797\n",
      "dtype: int64\n"
     ]
    },
    {
     "data": {
      "text/plain": [
       "<matplotlib.axes._subplots.AxesSubplot at 0x1ec0fa358>"
      ]
     },
     "execution_count": 169,
     "metadata": {},
     "output_type": "execute_result"
    },
    {
     "data": {
      "image/png": "[encoded data removed]",
      "text/plain": [
       "<Figure size 432x288 with 1 Axes>"
      ]
     },
     "metadata": {
      "needs_background": "light"
     },
     "output_type": "display_data"
    }
   ],
   "source": [
    "print(data.groupby('Label').size())\n",
    "%matplotlib inline\n",
    "import matplotlib as plt\n",
    "data['Label'].value_counts().plot(kind=\"bar\")"
   ]
  },
  {
   "cell_type": "code",
   "execution_count": 170,
   "metadata": {},
   "outputs": [],
   "source": [
    "texts = data[\"Tweet\"].values\n",
    "test_texts = test_data[\"Tweet\"].values\n",
    "labels = data[\"Label\"].values"
   ]
  },
  {
   "cell_type": "markdown",
   "metadata": {},
   "source": [
    "## Cleaning tweets"
   ]
  },
  {
   "cell_type": "code",
   "execution_count": 171,
   "metadata": {},
   "outputs": [
    {
     "name": "stdout",
     "output_type": "stream",
     "text": [
      "[nltk_data] Downloading package stopwords to\n",
      "[nltk_data]     /Users/johnlau/nltk_data...\n",
      "[nltk_data]   Package stopwords is already up-to-date!\n"
     ]
    }
   ],
   "source": [
    "# stemming + stopword_removal\n",
    "\n",
    "import re\n",
    "import nltk\n",
    "nltk.download('stopwords')\n",
    "from nltk.corpus import stopwords\n",
    "\n",
    "def stemming_stopword_removal(texts):\n",
    "    text = []\n",
    "    for i in range(0, len(texts)):\n",
    "        tweet = re.sub('[^a-zA-Z\\s+]','', texts[i])\n",
    "        tweet = re.sub(r'http\\S+', '', texts[i]).lower().split()\n",
    "        tweet = [word for word in tweet if not word in set(stopwords.words('english'))]\n",
    "        tweet = ' '.join(tweet)\n",
    "        text.append(tweet)\n",
    "    text = np.asarray(text)\n",
    "    return text"
   ]
  },
  {
   "cell_type": "code",
   "execution_count": 172,
   "metadata": {},
   "outputs": [
    {
     "data": {
      "text/plain": [
       "(1338,)"
      ]
     },
     "execution_count": 172,
     "metadata": {},
     "output_type": "execute_result"
    }
   ],
   "source": [
    "text = stemming_stopword_removal(texts)\n",
    "text.shape"
   ]
  },
  {
   "cell_type": "code",
   "execution_count": 173,
   "metadata": {},
   "outputs": [
    {
     "data": {
      "text/plain": [
       "(134239,)"
      ]
     },
     "execution_count": 173,
     "metadata": {},
     "output_type": "execute_result"
    }
   ],
   "source": [
    "test_text = stemming_stopword_removal(test_texts)\n",
    "test_text.shape"
   ]
  },
  {
   "cell_type": "code",
   "execution_count": 174,
   "metadata": {},
   "outputs": [
    {
     "data": {
      "text/plain": [
       "(135577,)"
      ]
     },
     "execution_count": 174,
     "metadata": {},
     "output_type": "execute_result"
    }
   ],
   "source": [
    "combined_text = np.concatenate((text, test_text), axis=None)\n",
    "combined_text.shape"
   ]
  },
  {
   "cell_type": "code",
   "execution_count": 175,
   "metadata": {},
   "outputs": [
    {
     "name": "stdout",
     "output_type": "stream",
     "text": [
      "Found 71124 unique tokens.\n"
     ]
    }
   ],
   "source": [
    "# tokenizing and sequencing\n",
    "tokenizer = Tokenizer(num_words=MAX_NB_WORDS)\n",
    "# Combine training and test texts to ensure all tokens available to prevent prediction error\n",
    "tokenizer.fit_on_texts(combined_text)\n",
    "sequences = tokenizer.texts_to_sequences(text)\n",
    "test_sequences = tokenizer.texts_to_sequences(test_text)\n",
    "\n",
    "word_index = tokenizer.word_index\n",
    "print('Found %s unique tokens.' % len(word_index))"
   ]
  },
  {
   "cell_type": "code",
   "execution_count": 176,
   "metadata": {},
   "outputs": [],
   "source": [
    "df = pad_sequences(sequences, maxlen=MAX_SEQUENCE_LENGTH)\n",
    "test_df = pad_sequences(test_sequences, maxlen=MAX_SEQUENCE_LENGTH)"
   ]
  },
  {
   "cell_type": "code",
   "execution_count": 177,
   "metadata": {},
   "outputs": [
    {
     "name": "stdout",
     "output_type": "stream",
     "text": [
      "Training data frame shape (1338, 15)\n",
      "Test data frame shape (134239, 15)\n"
     ]
    }
   ],
   "source": [
    "print('Training data frame shape', df.shape)\n",
    "print('Test data frame shape', test_df.shape)"
   ]
  },
  {
   "cell_type": "code",
   "execution_count": 178,
   "metadata": {},
   "outputs": [],
   "source": [
    "target_names = data.Label.unique() # list of label ids\n",
    "target_dict = {n:i for i, n in enumerate(target_names)} # list of label names\n",
    "labels = data.Label.map(target_dict)\n",
    "labels = to_categorical(np.asarray(labels))"
   ]
  },
  {
   "cell_type": "code",
   "execution_count": 179,
   "metadata": {},
   "outputs": [
    {
     "data": {
      "text/plain": [
       "{'spam': 0, 'pos': 1, 'hype': 2, 'neg': 3, 'doom': 4}"
      ]
     },
     "execution_count": 179,
     "metadata": {},
     "output_type": "execute_result"
    }
   ],
   "source": [
    "target_dict"
   ]
  },
  {
   "cell_type": "code",
   "execution_count": 180,
   "metadata": {},
   "outputs": [
    {
     "name": "stdout",
     "output_type": "stream",
     "text": [
      "Shape of data tensor: (1338, 5)\n",
      "Shape of label tensor: (1338, 5)\n"
     ]
    }
   ],
   "source": [
    "print('Shape of data tensor:', data.shape)\n",
    "print('Shape of label tensor:', labels.shape)"
   ]
  },
  {
   "cell_type": "code",
   "execution_count": 181,
   "metadata": {},
   "outputs": [],
   "source": [
    "# Shuffle the training data frame\n",
    "indices = np.arange(df.shape[0])\n",
    "np.random.shuffle(indices)\n",
    "data = df[indices]\n",
    "labels = labels[indices]"
   ]
  },
  {
   "cell_type": "code",
   "execution_count": 182,
   "metadata": {},
   "outputs": [],
   "source": [
    "X = data\n",
    "y = labels"
   ]
  },
  {
   "cell_type": "code",
   "execution_count": 183,
   "metadata": {},
   "outputs": [],
   "source": [
    "# split\n",
    "from sklearn.model_selection import train_test_split\n",
    "X_train, X_test, y_train, y_test = train_test_split(data, labels, test_size=0.2, random_state=0)"
   ]
  },
  {
   "cell_type": "markdown",
   "metadata": {},
   "source": [
    "## Pre-training on Glove embeddings"
   ]
  },
  {
   "cell_type": "code",
   "execution_count": 184,
   "metadata": {},
   "outputs": [
    {
     "name": "stdout",
     "output_type": "stream",
     "text": [
      "Found 400000 word vectors.\n",
      "47764\n"
     ]
    }
   ],
   "source": [
    "# embedding matrx\n",
    "embeddings_index = {}\n",
    "f = open('glove.6B.300d.txt')\n",
    "for line in f:\n",
    "    values = line.split()\n",
    "    word = values[0]\n",
    "    coefs = np.asarray(values[1:], dtype='float32')\n",
    "    embeddings_index[word] = coefs\n",
    "f.close()\n",
    "\n",
    "print('Found %s word vectors.' % len(embeddings_index))\n",
    "\n",
    "# embedding matrix\n",
    "count = 0\n",
    "embedding_matrix = np.zeros((len(word_index) + 1, EMBEDDING_DIM))\n",
    "for word, index in word_index.items():\n",
    "    embedding_vector = embeddings_index.get(word)\n",
    "    if embedding_vector is not None:\n",
    "        # words not found in embedding index will be all-zeros.\n",
    "        embedding_matrix[index] = embedding_vector\n",
    "    else:\n",
    "        count += 1\n",
    "print(count) \n",
    "\n",
    "\n",
    "# embedding layer\n",
    "embedding_layer = Embedding(len(word_index) + 1,\n",
    "                            EMBEDDING_DIM,\n",
    "                            weights=[embedding_matrix],\n",
    "                            input_length=MAX_SEQUENCE_LENGTH,\n",
    "                            trainable=True) "
   ]
  },
  {
   "cell_type": "code",
   "execution_count": 185,
   "metadata": {},
   "outputs": [],
   "source": [
    "# build model\n",
    "model = Sequential()\n",
    "model.add(embedding_layer)\n",
    "model.add(Dropout(0.3))\n",
    "model.add(Bidirectional(LSTM(128, recurrent_dropout=0.3)))\n",
    "model.add(Dropout(0.3))\n",
    "model.add(Dense(len(target_names), activation='softmax'))\n",
    "model.compile(loss='categorical_crossentropy', optimizer=Adam(lr=0.003), metrics=['acc'])"
   ]
  },
  {
   "cell_type": "code",
   "execution_count": 186,
   "metadata": {},
   "outputs": [
    {
     "name": "stdout",
     "output_type": "stream",
     "text": [
      "Train on 1070 samples, validate on 268 samples\n",
      "Epoch 1/4\n",
      "1070/1070 [==============================] - 14s 13ms/step - loss: 1.1356 - acc: 0.5710 - val_loss: 1.0799 - val_acc: 0.5896\n",
      "Epoch 2/4\n",
      "1070/1070 [==============================] - 12s 12ms/step - loss: 0.8108 - acc: 0.7056 - val_loss: 1.0854 - val_acc: 0.5858\n",
      "Epoch 3/4\n",
      "1070/1070 [==============================] - 12s 11ms/step - loss: 0.5524 - acc: 0.8093 - val_loss: 1.3031 - val_acc: 0.5858\n",
      "Epoch 4/4\n",
      "1070/1070 [==============================] - 12s 11ms/step - loss: 0.3467 - acc: 0.8888 - val_loss: 1.3659 - val_acc: 0.5821\n"
     ]
    },
    {
     "data": {
      "text/plain": [
       "<keras.callbacks.History at 0x17129e7f0>"
      ]
     },
     "execution_count": 186,
     "metadata": {},
     "output_type": "execute_result"
    }
   ],
   "source": [
    "model.fit(X_train, y_train,\n",
    "          batch_size=32,\n",
    "          epochs=4, validation_data=(X_test, y_test))"
   ]
  },
  {
   "cell_type": "code",
   "execution_count": 187,
   "metadata": {},
   "outputs": [
    {
     "name": "stdout",
     "output_type": "stream",
     "text": [
      "             precision    recall  f1-score   support\n",
      "\n",
      "          0      0.710     0.872     0.783       149\n",
      "          1      0.250     0.140     0.179        43\n",
      "          2      0.312     0.244     0.274        41\n",
      "          3      0.294     0.294     0.294        17\n",
      "          4      0.417     0.278     0.333        18\n",
      "\n",
      "avg / total      0.530     0.582     0.547       268\n",
      "\n"
     ]
    }
   ],
   "source": [
    "y_pred = model.predict(X_test)\n",
    "y_test_class = np.argmax(y_test, axis=1)\n",
    "y_pred_class = np.argmax(y_pred, axis=1)\n",
    "\n",
    "from sklearn.metrics import classification_report\n",
    "print(classification_report(y_test_class, y_pred_class, digits=3))"
   ]
  },
  {
   "cell_type": "code",
   "execution_count": 188,
   "metadata": {},
   "outputs": [
    {
     "data": {
      "text/plain": [
       "{'spam': 0, 'pos': 1, 'hype': 2, 'neg': 3, 'doom': 4}"
      ]
     },
     "execution_count": 188,
     "metadata": {},
     "output_type": "execute_result"
    }
   ],
   "source": [
    "target_dict"
   ]
  },
  {
   "cell_type": "code",
   "execution_count": 189,
   "metadata": {},
   "outputs": [],
   "source": [
    "test_prediction = model.predict(test_df)"
   ]
  },
  {
   "cell_type": "code",
   "execution_count": 190,
   "metadata": {},
   "outputs": [
    {
     "data": {
      "text/plain": [
       "array([[8.4184057e-01, 1.1127404e-01, 2.7888753e-02, 1.7866502e-02,\n",
       "        1.1301355e-03],\n",
       "       [5.1243418e-01, 3.0959821e-01, 9.8000348e-02, 6.6769049e-02,\n",
       "        1.3198220e-02],\n",
       "       [9.5601268e-02, 5.6074530e-02, 2.4632268e-02, 5.5127025e-01,\n",
       "        2.7242166e-01],\n",
       "       ...,\n",
       "       [2.5324789e-01, 3.4108391e-01, 1.6322091e-01, 7.0757329e-02,\n",
       "        1.7168996e-01],\n",
       "       [9.5204204e-01, 1.8265758e-02, 2.3055837e-02, 2.8018721e-03,\n",
       "        3.8344632e-03],\n",
       "       [8.7308413e-01, 1.1709824e-01, 7.5051598e-03, 1.8830904e-03,\n",
       "        4.2927719e-04]], dtype=float32)"
      ]
     },
     "execution_count": 190,
     "metadata": {},
     "output_type": "execute_result"
    }
   ],
   "source": [
    "test_prediction"
   ]
  },
  {
   "cell_type": "code",
   "execution_count": 234,
   "metadata": {},
   "outputs": [
    {
     "data": {
      "text/plain": [
       "(134239,)"
      ]
     },
     "execution_count": 234,
     "metadata": {},
     "output_type": "execute_result"
    }
   ],
   "source": [
    "# Get the index of the maximum value by each row\n",
    "predicted_class = np.argmax(test_prediction, axis=1)\n",
    "predicted_class.shape"
   ]
  },
  {
   "cell_type": "code",
   "execution_count": 257,
   "metadata": {},
   "outputs": [
    {
     "name": "stdout",
     "output_type": "stream",
     "text": [
      "Minimum timestamp 1504191600.0\n",
      "Maximum timestamp 1504192620.0\n"
     ]
    }
   ],
   "source": [
    "import datetime\n",
    "\n",
    "NUM_TO_PLOT = 50\n",
    "predicted_datetime = []\n",
    "\n",
    "# String to datetime object. Timezone follows the machine which in this case JST\n",
    "for str_dt in test_data[:NUM_TO_PLOT]['Timestamp']:\n",
    "    dt = datetime.datetime.strptime(str_dt, '%B %d, %Y at %I:%M%p')\n",
    "    predicted_datetime.append(dt.timestamp())\n",
    "\n",
    "min_predicted_datetime = min(predicted_datetime)\n",
    "max_predicted_datetime = max(predicted_datetime)\n",
    "print('Minimum timestamp', min_predicted_datetime)\n",
    "print('Maximum timestamp', max_predicted_datetime)"
   ]
  },
  {
   "cell_type": "code",
   "execution_count": 259,
   "metadata": {},
   "outputs": [
    {
     "data": {
      "text/plain": [
       "<matplotlib.axes._subplots.AxesSubplot at 0x1a5b93780>"
      ]
     },
     "execution_count": 259,
     "metadata": {},
     "output_type": "execute_result"
    },
    {
     "data": {
      "image/png": "[encoded data removed]",
      "text/plain": [
       "<Figure size 432x288 with 1 Axes>"
      ]
     },
     "metadata": {
      "needs_background": "light"
     },
     "output_type": "display_data"
    }
   ],
   "source": [
    "series = pd.Series(predicted_class[:50])\n",
    "series.plot()"
   ]
  },
  {
   "cell_type": "code",
   "execution_count": 241,
   "metadata": {},
   "outputs": [
    {
     "data": {
      "image/png": "[encoded data removed]",
      "text/plain": [
       "<Figure size 432x288 with 1 Axes>"
      ]
     },
     "metadata": {
      "needs_background": "light"
     },
     "output_type": "display_data"
    }
   ],
   "source": [
    "import matplotlib.pyplot as plt\n",
    "\n",
    "plt.bar(predicted_datetime[:100], predicted_class[:100])\n",
    "\n",
    "# get current axis\n",
    "# ax = plt.gca()\n",
    "# get current xtick labels\n",
    "# xticks = ax.get_xticks()\n",
    "# convert all xtick labels to selected format\n",
    "# ax.set_xticklabels([pd.to_datetime(tm, unit='s', utc=True).strftime('%Y-%m-%d\\n %H:%M:%S %Z') for tm in xticks], rotation=50)\n",
    "\n",
    "plt.show()"
   ]
  },
  {
   "cell_type": "code",
   "execution_count": 191,
   "metadata": {},
   "outputs": [],
   "source": [
    "predicted_spam = test_prediction[:,0]\n",
    "predicted_positive = test_prediction[:,1]\n",
    "predicted_hype = test_prediction[:,2]\n",
    "predicted_negative = test_prediction[:,3]\n",
    "predicted_doom = test_prediction[:,4]"
   ]
  },
  {
   "cell_type": "code",
   "execution_count": 194,
   "metadata": {},
   "outputs": [
    {
     "data": {
      "text/plain": [
       "(134239, 5)"
      ]
     },
     "execution_count": 194,
     "metadata": {},
     "output_type": "execute_result"
    }
   ],
   "source": [
    "test_data.shape"
   ]
  },
  {
   "cell_type": "code",
   "execution_count": 225,
   "metadata": {},
   "outputs": [
    {
     "name": "stdout",
     "output_type": "stream",
     "text": [
      "Minimum timestamp 1504191600.0\n",
      "Maximum timestamp 1506711300.0\n"
     ]
    }
   ],
   "source": [
    "import datetime\n",
    "predicted_datetime = []\n",
    "\n",
    "# String to datetime object. Timezone follows the machine which in this case JST\n",
    "for str_dt in test_data['Timestamp']:\n",
    "    dt = datetime.datetime.strptime(str_dt, '%B %d, %Y at %I:%M%p')\n",
    "    predicted_datetime.append(dt.timestamp())\n",
    "\n",
    "min_predicted_datetime = min(predicted_datetime)\n",
    "max_predicted_datetime = max(predicted_datetime)\n",
    "print('Minimum timestamp', min_predicted_datetime)\n",
    "print('Maximum timestamp', max_predicted_datetime)"
   ]
  },
  {
   "cell_type": "code",
   "execution_count": 229,
   "metadata": {},
   "outputs": [
    {
     "data": {
      "image/png": "[encoded data removed]",
      "text/plain": [
       "<Figure size 432x288 with 1 Axes>"
      ]
     },
     "metadata": {
      "needs_background": "light"
     },
     "output_type": "display_data"
    }
   ],
   "source": [
    "import matplotlib.pyplot as plt\n",
    "\n",
    "plt.plot(predicted_datetime[:50], predicted_spam[:50])\n",
    "\n",
    "# get current axis\n",
    "ax = plt.gca()\n",
    "# get current xtick labels\n",
    "xticks = ax.get_xticks()\n",
    "# convert all xtick labels to selected format\n",
    "ax.set_xticklabels([pd.to_datetime(tm, unit='s', utc=True).strftime('%Y-%m-%d\\n %H:%M:%S %Z') for tm in xticks],\n",
    " rotation=50)\n",
    "\n",
    "plt.show()\n"
   ]
  },
  {
   "cell_type": "code",
   "execution_count": null,
   "metadata": {},
   "outputs": [],
   "source": []
  }
 ],
 "metadata": {
  "kernelspec": {
   "display_name": "Python 3",
   "language": "python",
   "name": "python3"
  },
  "language_info": {
   "codemirror_mode": {
    "name": "ipython",
    "version": 3
   },
   "file_extension": ".py",
   "mimetype": "text/x-python",
   "name": "python",
   "nbconvert_exporter": "python",
   "pygments_lexer": "ipython3",
   "version": "3.6.3"
  }
 },
 "nbformat": 4,
 "nbformat_minor": 2
}
